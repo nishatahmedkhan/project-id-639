import tkinter as tk#GUI library
from tkinter import scrolledtext, filedialog, messagebox
import numpy as np
import tensorflow as tf
import PyPDF2
import re
from reportlab.lib.pagesizes import letter
from reportlab.pdfgen import canvas
from reportlab.lib.units import inch
from reportlab.lib.styles import getSampleStyleSheet
from reportlab.platypus import SimpleDocTemplate, Paragraph, Spacer, Image, Table, TableStyle
from reportlab.lib import colors
from io import BytesIO
import os

class TextModel(tf.keras.Model):
    def __init__(self):
        super(TextModel, self).__init__()
        self.dense = tf.keras.layers.Dense(1, activation='sigmoid')

    def call(self, inputs):
        return self.dense(inputs)

def load_model():
    model = TextModel()
    model.build(input_shape=(None, 10)) 
    return model

def extract_qualifications(job_description):
    required_skills = re.findall(r"Required Qualifications:([\s\S]*?)(Preferred|What We Offer|$)", job_description, re.IGNORECASE)
    preferred_skills = re.findall(r"Preferred Qualifications:([\s\S]*?)(What We Offer|$)", job_description, re.IGNORECASE)
    
    skills = ""
    if required_skills:
        skills += "Required Skills:\n" + required_skills[0][0].strip() + "\n\n"
    if preferred_skills:
        skills += "Preferred Skills:\n" + preferred_skills[0][0].strip() + "\n\n"
    
    return skills.strip()

def add_experience_if_missing(resume):
    experience_section = re.search(r"experience", resume, re.IGNORECASE)
    if not experience_section:
        experience_text = "\nExperience:\nHappy Hour School, Data Analyst\n- 5 years of experience in data analytics, Python, SQL, NoSQL, and AWS.\n"
        return resume + experience_text
    return resume

def process_text(resume, job_description):
    qualifications = extract_qualifications(job_description)
    resume += "\n\nSkills:\n" + qualifications
    
    resume = add_experience_if_missing(resume)
    
    resume_vector = np.random.rand(1, 10)
    job_description_vector = np.random.rand(1, 10)  
    model = load_model()
    resume_score = model(tf.convert_to_tensor(resume_vector, dtype=tf.float32))
    job_description_score = model(tf.convert_to_tensor(job_description_vector, dtype=tf.float32))

    if resume_score > job_description_score:
        return resume + "\n\nResume modified to better match the job description."
    else:
        return resume + "\n\nAdditional skills added to improve compatibility with the job description."

def save_as_pdf_with_template(file_path, resume_content, image_path=None):
    try:
        doc = SimpleDocTemplate(file_path, pagesize=letter)
        styles = getSampleStyleSheet()
        story = []

        if image_path and os.path.exists(image_path):
            img = Image(image_path, 1.5 * inch, 1.5 * inch)
            img.hAlign = 'LEFT'
            story.append(img)
        
        title = Paragraph("Resume", styles['Title'])
        story.append(title)
        story.append(Spacer(1, 12))

        for section in resume_content.split("\n\n"):
            paragraph = Paragraph(section.replace("\n", "<br />"), styles['Normal'])
            story.append(paragraph)
            story.append(Spacer(1, 12))

        footer = Paragraph("Generated using Resume Modifier App", styles['Normal'])
        story.append(Spacer(1, 24))
        story.append(footer)

        doc.build(story)
        return True
    except Exception as e:
        return str(e)

class ResumeModifierApp:
    def __init__(self, root):
        self.root = root
        self.root.title("Resume Modifier")
        self.image_path = None

        tk.Label(root, text="Paste your resume or browse file (PDF/Text):").pack()
        self.resume_text = scrolledtext.ScrolledText(root, width=80, height=10)
        self.resume_text.pack()

        tk.Button(root, text="Browse Resume", command=self.load_resume_file).pack()

        tk.Label(root, text="Paste the job description or browse file (PDF/Text):").pack()
        self.job_desc_text = scrolledtext.ScrolledText(root, width=80, height=10)
        self.job_desc_text.pack()

        tk.Button(root, text="Browse Job Description", command=self.load_job_desc_file).pack()

        tk.Button(root, text="Modify Resume", command=self.modify_resume).pack()

        tk.Label(root, text="Modified resume:").pack()
        self.output_text = scrolledtext.ScrolledText(root, width=80, height=10)
        self.output_text.pack()

        tk.Button(root, text="Upload Picture", command=self.upload_picture).pack()
        tk.Button(root, text="Save as PDF", command=self.save_output_as_pdf).pack()

    def load_resume_file(self):
        file_path = filedialog.askopenfilename(filetypes=[("PDF files", "*.pdf"), ("Text files", "*.txt"), ("All files", "*.*")])
        if file_path:
            if file_path.endswith('.pdf'):
                resume_content = self.extract_text_from_pdf(file_path)
            else:
                with open(file_path, 'r') as file:
                    resume_content = file.read()
            self.resume_text.delete("1.0", tk.END)
            self.resume_text.insert(tk.END, resume_content)
            self.resume_file_path = file_path

    def load_job_desc_file(self):
        file_path = filedialog.askopenfilename(filetypes=[("PDF files", "*.pdf"), ("Text files", "*.txt"), ("All files", "*.*")])
        if file_path:
            if file_path.endswith('.pdf'):
                job_desc_content = self.extract_text_from_pdf(file_path)
            else:
                with open(file_path, 'r') as file:
                    job_desc_content = file.read()
            self.job_desc_text.delete("1.0", tk.END)
            self.job_desc_text.insert(tk.END, job_desc_content)

    def extract_text_from_pdf(self, file_path):
        try:
            with open(file_path, 'rb') as file:
                reader = PyPDF2.PdfReader(file)
                text = ""
                for page_num in range(len(reader.pages)):
                    page = reader.pages[page_num]
                    text += page.extract_text()
            return text
        except Exception as e:
            return f"Error reading PDF: {str(e)}"

    def modify_resume(self):
        resume = self.resume_text.get("1.0", tk.END)
        job_description = self.job_desc_text.get("1.0", tk.END)
        modified_resume = process_text(resume.strip(), job_description.strip())
        self.output_text.delete("1.0", tk.END)
        self.output_text.insert(tk.END, modified_resume)

    def upload_picture(self):
        image_path = filedialog.askopenfilename(filetypes=[("Image files", "*.jpg;*.jpeg;*.png")])
        if image_path:
            self.image_path = image_path
            messagebox.showinfo("Image Uploaded", f"Image selected: {os.path.basename(image_path)}")

    def save_output_as_pdf(self):
        modified_resume = self.output_text.get("1.0", tk.END).strip()
        if modified_resume:
            file_path = filedialog.asksaveasfilename(defaultextension=".pdf", filetypes=[("PDF files", "*.pdf")])
            if file_path:
                result = save_as_pdf_with_template(file_path, modified_resume, self.image_path)
                if result is True:
                    messagebox.showinfo("Success", f"File saved successfully at {file_path}")
                else:
                    messagebox.showerror("Error", f"Failed to save PDF: {result}")

if __name__ == "__main__":
    root = tk.Tk()
    app = ResumeModifierApp(root)
    root.mainloop()
